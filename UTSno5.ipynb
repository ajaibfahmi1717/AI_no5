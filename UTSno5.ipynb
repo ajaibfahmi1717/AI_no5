{
  "nbformat": 4,
  "nbformat_minor": 0,
  "metadata": {
    "colab": {
      "name": "UTSno5.ipynb",
      "provenance": []
    },
    "kernelspec": {
      "name": "python3",
      "display_name": "Python 3"
    },
    "language_info": {
      "name": "python"
    }
  },
  "cells": [
    {
      "cell_type": "code",
      "source": [
        "from google.colab import drive\n",
        "drive.mount('/content/drive')"
      ],
      "metadata": {
        "colab": {
          "base_uri": "https://localhost:8080/"
        },
        "id": "jNhIKs3hdWn_",
        "outputId": "233a8f2f-da02-428b-8521-31e0f9ce154c"
      },
      "execution_count": null,
      "outputs": [
        {
          "output_type": "stream",
          "name": "stdout",
          "text": [
            "Drive already mounted at /content/drive; to attempt to forcibly remount, call drive.mount(\"/content/drive\", force_remount=True).\n"
          ]
        }
      ]
    },
    {
      "cell_type": "code",
      "source": [
        "!pip install logic"
      ],
      "metadata": {
        "colab": {
          "base_uri": "https://localhost:8080/"
        },
        "id": "uXBQ_zHUPlKa",
        "outputId": "25e48b6d-e6c2-4135-997a-130a58a551c4"
      },
      "execution_count": null,
      "outputs": [
        {
          "output_type": "stream",
          "name": "stdout",
          "text": [
            "Collecting logic\n",
            "  Downloading logic-0.2.3.tar.gz (20 kB)\n",
            "Requirement already satisfied: toolz in /usr/local/lib/python3.7/dist-packages (from logic) (0.11.2)\n",
            "Collecting multipledispatch\n",
            "  Downloading multipledispatch-0.6.0-py3-none-any.whl (11 kB)\n",
            "Collecting unification\n",
            "  Downloading unification-0.2.2-py2.py3-none-any.whl (10 kB)\n",
            "Requirement already satisfied: six in /usr/local/lib/python3.7/dist-packages (from multipledispatch->logic) (1.15.0)\n",
            "Building wheels for collected packages: logic\n",
            "  Building wheel for logic (setup.py) ... \u001b[?25l\u001b[?25hdone\n",
            "  Created wheel for logic: filename=logic-0.2.3-py3-none-any.whl size=13725 sha256=b3a056c02c5273a6597b7f2b7e981e623ceae1af1068dcdc207455645c645132\n",
            "  Stored in directory: /root/.cache/pip/wheels/37/3f/25/d8224026dd727271dffcf8abe834f988a0e04395808332ff5a\n",
            "Successfully built logic\n",
            "Installing collected packages: multipledispatch, unification, logic\n",
            "Successfully installed logic-0.2.3 multipledispatch-0.6.0 unification-0.2.2\n"
          ]
        }
      ]
    },
    {
      "cell_type": "code",
      "source": [
        "!pip install 'git+https://github.com/MHordecki/LogPy#egg=logPy'"
      ],
      "metadata": {
        "colab": {
          "base_uri": "https://localhost:8080/"
        },
        "id": "BFjaSh7NP3ve",
        "outputId": "ba036e12-0f95-4d6e-a5a7-1614185d0803"
      },
      "execution_count": null,
      "outputs": [
        {
          "output_type": "stream",
          "name": "stdout",
          "text": [
            "Collecting logPy\n",
            "  Cloning https://github.com/MHordecki/LogPy to /tmp/pip-install-pnwbsmxl/logpy_8c7f1250f1ad4b39a13bc4d0d9703b61\n",
            "  Running command git clone -q https://github.com/MHordecki/LogPy /tmp/pip-install-pnwbsmxl/logpy_8c7f1250f1ad4b39a13bc4d0d9703b61\n",
            "Building wheels for collected packages: logPy\n",
            "  Building wheel for logPy (setup.py) ... \u001b[?25l\u001b[?25hdone\n",
            "  Created wheel for logPy: filename=LogPy-1.0.1-py3-none-any.whl size=4688 sha256=29926868a670d70bfeb053bd4193ae4dda241f9edb478b3ff6c119e05f4219da\n",
            "  Stored in directory: /tmp/pip-ephem-wheel-cache-lhuaj_33/wheels/51/4b/6c/6b71671057d63f6acadb92124d3a5856b77b6f8233450c88bd\n",
            "Successfully built logPy\n",
            "Installing collected packages: logPy\n",
            "Successfully installed logPy-1.0.1\n"
          ]
        }
      ]
    },
    {
      "cell_type": "code",
      "source": [
        "from logpy import run, fact, eq, Relation, var\n",
        "\n",
        "adjacent = Relation()\n",
        "coastal = Relation()\n",
        "\n",
        "file_coastal = '/content/drive/My Drive/aisoal5/coastal_states.txt'\n",
        "file_adjacent = '/content/drive/My Drive/aisoal5/adjacent_states.txt'\n",
        "\n",
        "# Read the file containing the coastal states\n",
        "with open(file_coastal, 'r') as f:\n",
        "    line = f.read()\n",
        "    coastal_states = line.split(',')\n",
        "\n",
        "# Add the info to the fact base\n",
        "for state in coastal_states:\n",
        "    fact(coastal, state)\n",
        "\n",
        "# Read the file containing the coastal states\n",
        "with open(file_adjacent, 'r') as f:\n",
        "    adjlist = [line.strip().split(',') for line in f if line and line[0].isalpha()]\n",
        "\n",
        "# Add the info to the fact base\n",
        "for L in adjlist:\n",
        "    head, tail = L[0], L[1:]\n",
        "    for state in tail:\n",
        "        fact(adjacent, head, state)\n",
        "# Initialize the variables\n",
        "x = var()\n",
        "y = var()\n",
        "\n",
        "# Is Nevada adjacent to Louisiana?\n",
        "output = run(0, x, adjacent('Nevada', 'Louisiana'))\n",
        "print('\\nIs Nevada adjacent to Louisiana?:')\n",
        "print('Yes' if len(output) else 'No')\n",
        "\n",
        "# States adjacent to Oregon\n",
        "output = run(0, x, adjacent('Oregon', x))\n",
        "print('\\nList of states adjacent to Oregon:')\n",
        "for item in output:\n",
        "    print(item)\n",
        "\n",
        "# States adjacent to Mississippi that are coastal\n",
        "output = run(0, x, adjacent('Mississippi', x), coastal(x))\n",
        "print('\\nList of coastal states adjacent to Mississippi:')\n",
        "for item in output:\n",
        "    print(item)\n",
        "\n",
        "# List of 'n' states that border a coastal state\n",
        "n = 7\n",
        "output = run(n, x, coastal(y), adjacent(x, y))\n",
        "print('\\nList of ' + str(n) + ' states that border a coastal state:')\n",
        "for item in output:\n",
        "    print(item)\n",
        "\n",
        "# List of states that adjacent to the two given states\n",
        "output = run(0, x, adjacent('Arkansas', x), adjacent('Kentucky', x))\n",
        "print('\\nList of states that are adjacent to Arkansas and Kentucky:')\n",
        "for item in output:\n",
        "    print(item)"
      ],
      "metadata": {
        "colab": {
          "base_uri": "https://localhost:8080/"
        },
        "id": "n9kI9KP0Sip3",
        "outputId": "5aba5c98-9c27-49eb-f347-13e9772809bf"
      },
      "execution_count": null,
      "outputs": [
        {
          "output_type": "stream",
          "name": "stdout",
          "text": [
            "\n",
            "Is Nevada adjacent to Louisiana?:\n",
            "No\n",
            "\n",
            "List of states adjacent to Oregon:\n",
            "Nevada\n",
            "California\n",
            "Washington\n",
            "Idaho\n",
            "\n",
            "List of coastal states adjacent to Mississippi:\n",
            "Louisiana\n",
            "Alabama\n",
            "\n",
            "List of 7 states that border a coastal state:\n",
            "Idaho\n",
            "District of Columbia\n",
            "Pennsylvania\n",
            "Oregon\n",
            "Georgia\n",
            "Arkansas\n",
            "New York\n",
            "\n",
            "List of states that are adjacent to Arkansas and Kentucky:\n",
            "Missouri\n",
            "Tennessee\n"
          ]
        }
      ]
    },
    {
      "cell_type": "code",
      "source": [
        ""
      ],
      "metadata": {
        "id": "4F9gB437X3ZP"
      },
      "execution_count": null,
      "outputs": []
    }
  ]
}